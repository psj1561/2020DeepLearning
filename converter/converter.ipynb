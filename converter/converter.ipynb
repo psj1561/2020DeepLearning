{
 "cells": [
  {
   "cell_type": "code",
   "execution_count": 34,
   "metadata": {},
   "outputs": [
    {
     "name": "stdout",
     "output_type": "stream",
     "text": [
      "Writing default config to: /home/seung/.jupyter/jupyter_notebook_config.py\r\n"
     ]
    }
   ],
   "source": [
    "!~/.venv/py369keras/bin/jupyter notebook --generate-config"
   ]
  },
  {
   "cell_type": "code",
   "execution_count": 36,
   "metadata": {},
   "outputs": [
    {
     "name": "stdout",
     "output_type": "stream",
     "text": [
      "config:\r\n",
      "    /home/seung/.jupyter\r\n",
      "    /home/seung/.venv/py369keras/etc/jupyter\r\n",
      "    /usr/local/etc/jupyter\r\n",
      "    /etc/jupyter\r\n",
      "data:\r\n",
      "    /home/seung/.local/share/jupyter\r\n",
      "    /home/seung/.venv/py369keras/share/jupyter\r\n",
      "    /usr/local/share/jupyter\r\n",
      "    /usr/share/jupyter\r\n",
      "runtime:\r\n",
      "    /home/seung/.local/share/jupyter/runtime\r\n"
     ]
    }
   ],
   "source": [
    "!~/.venv/py369keras/bin/jupyter --paths"
   ]
  },
  {
   "cell_type": "code",
   "execution_count": 37,
   "metadata": {},
   "outputs": [],
   "source": [
    "#!cat /home/seung/.jupyter/jupyter_notebook_config.py"
   ]
  },
  {
   "cell_type": "code",
   "execution_count": 1,
   "metadata": {},
   "outputs": [
    {
     "name": "stdout",
     "output_type": "stream",
     "text": [
      "[NbConvertApp] Converting notebook 01_Python-basic/01-HelloPython.ipynb to pdf\n",
      "[NbConvertApp] Writing 36913 bytes to ./notebook.tex\n",
      "[NbConvertApp] Building PDF\n",
      "[NbConvertApp] Running xelatex 3 times: ['xelatex', './notebook.tex', '-quiet']\n",
      "[NbConvertApp] Running bibtex 1 time: ['bibtex', './notebook']\n",
      "[NbConvertApp] WARNING | bibtex had problems, most likely because there were no citations\n",
      "[NbConvertApp] PDF successfully created\n",
      "[NbConvertApp] Writing 44289 bytes to 01_Python-basic/01-HelloPython.pdf\n"
     ]
    }
   ],
   "source": [
    "!~/.venv/py369keras/bin/jupyter nbconvert 01_Python-basic/01-HelloPython.ipynb --to pdf"
   ]
  },
  {
   "cell_type": "code",
   "execution_count": 2,
   "metadata": {},
   "outputs": [
    {
     "name": "stdout",
     "output_type": "stream",
     "text": [
      "-rwxrwxr-x 1 seung seung 243 Jun 21 01:54 /home/seung/.venv/py369keras/bin/jupyter\r\n"
     ]
    }
   ],
   "source": [
    "!ls -al ~/.venv/py369keras/bin/jupyter"
   ]
  },
  {
   "cell_type": "code",
   "execution_count": 4,
   "metadata": {},
   "outputs": [
    {
     "name": "stdout",
     "output_type": "stream",
     "text": [
      "[NbConvertApp] Converting notebook ../02_ML_Basic/01_linear_regression_using_tensorflow.ipynb to pdf\n",
      "[NbConvertApp] Support files will be in 01_linear_regression_using_tensorflow_files/\n",
      "[NbConvertApp] Making directory ./01_linear_regression_using_tensorflow_files\n",
      "[NbConvertApp] Writing 24665 bytes to ./notebook.tex\n",
      "[NbConvertApp] Building PDF\n",
      "[NbConvertApp] Running xelatex 3 times: ['xelatex', './notebook.tex', '-quiet']\n",
      "[NbConvertApp] Running bibtex 1 time: ['bibtex', './notebook']\n",
      "[NbConvertApp] WARNING | bibtex had problems, most likely because there were no citations\n",
      "[NbConvertApp] PDF successfully created\n",
      "[NbConvertApp] Writing 100395 bytes to ../02_ML_Basic/01_linear_regression_using_tensorflow.pdf\n"
     ]
    }
   ],
   "source": [
    "!~/.venv/py369keras/bin/jupyter nbconvert ../02_ML_Basic/01_linear_regression_using_tensorflow.ipynb --to pdf --template=oblivoir.tplx"
   ]
  },
  {
   "cell_type": "code",
   "execution_count": null,
   "metadata": {},
   "outputs": [],
   "source": []
  },
  {
   "cell_type": "code",
   "execution_count": 3,
   "metadata": {},
   "outputs": [
    {
     "name": "stdout",
     "output_type": "stream",
     "text": [
      "[NbConvertApp] Converting notebook 01_Python-basic/03_HelloNumpy_course.ipynb to pdf\n",
      "[NbConvertApp] Support files will be in 03_HelloNumpy_course_files/\n",
      "[NbConvertApp] Making directory ./03_HelloNumpy_course_files\n",
      "[NbConvertApp] Making directory ./03_HelloNumpy_course_files\n",
      "[NbConvertApp] Making directory ./03_HelloNumpy_course_files\n",
      "[NbConvertApp] Making directory ./03_HelloNumpy_course_files\n",
      "[NbConvertApp] Writing 50376 bytes to ./notebook.tex\n",
      "[NbConvertApp] Building PDF\n",
      "[NbConvertApp] Running xelatex 3 times: ['xelatex', './notebook.tex', '-quiet']\n",
      "[NbConvertApp] Running bibtex 1 time: ['bibtex', './notebook']\n",
      "[NbConvertApp] WARNING | bibtex had problems, most likely because there were no citations\n",
      "[NbConvertApp] PDF successfully created\n",
      "[NbConvertApp] Writing 141015 bytes to 01_Python-basic/03_HelloNumpy_course.pdf\n"
     ]
    }
   ],
   "source": [
    "!~/.venv/py369keras/bin/jupyter nbconvert 01_Python-basic/03_HelloNumpy_course.ipynb --to pdf --template=oblivoir.tplx"
   ]
  },
  {
   "cell_type": "code",
   "execution_count": null,
   "metadata": {},
   "outputs": [],
   "source": []
  },
  {
   "cell_type": "code",
   "execution_count": null,
   "metadata": {},
   "outputs": [],
   "source": []
  },
  {
   "cell_type": "code",
   "execution_count": 57,
   "metadata": {},
   "outputs": [
    {
     "name": "stdout",
     "output_type": "stream",
     "text": [
      "[NbConvertApp] Converting notebook 01_Python-basic/01-HelloPython.ipynb to pdf\n",
      "[NbConvertApp] Writing 37313 bytes to ./notebook.tex\n",
      "[NbConvertApp] Building PDF\n",
      "[NbConvertApp] Running xelatex 3 times: ['xelatex', './notebook.tex', '-quiet']\n",
      "[NbConvertApp] CRITICAL | xelatex failed: ['xelatex', './notebook.tex', '-quiet']\n",
      "This is XeTeX, Version 3.14159265-2.6-0.99998 (TeX Live 2017/Debian) (preloaded format=xelatex)\n",
      " restricted \\write18 enabled.\n",
      "entering extended mode\n",
      "(./notebook.tex\n",
      "LaTeX2e <2017-04-15>\n",
      "Babel <3.18> and hyphenation patterns for 84 language(s) loaded.\n",
      "! You can't use `macro parameter character #' in vertical mode.\n",
      "l.1 #\n",
      "     \\documentclass[11pt,language=korean]{article}\n",
      "? \n",
      "! Emergency stop.\n",
      "l.1 #\n",
      "     \\documentclass[11pt,language=korean]{article}\n",
      "No pages of output.\n",
      "Transcript written on notebook.log.\n",
      "\n",
      "Traceback (most recent call last):\n",
      "  File \"/home/seung/.venv/py369keras/bin/jupyter-nbconvert\", line 8, in <module>\n",
      "    sys.exit(main())\n",
      "  File \"/home/seung/.venv/py369keras/lib/python3.6/site-packages/jupyter_core/application.py\", line 267, in launch_instance\n",
      "    return super(JupyterApp, cls).launch_instance(argv=argv, **kwargs)\n",
      "  File \"/home/seung/.venv/py369keras/lib/python3.6/site-packages/traitlets/config/application.py\", line 658, in launch_instance\n",
      "    app.start()\n",
      "  File \"/home/seung/.venv/py369keras/lib/python3.6/site-packages/nbconvert/nbconvertapp.py\", line 340, in start\n",
      "    self.convert_notebooks()\n",
      "  File \"/home/seung/.venv/py369keras/lib/python3.6/site-packages/nbconvert/nbconvertapp.py\", line 510, in convert_notebooks\n",
      "    self.convert_single_notebook(notebook_filename)\n",
      "  File \"/home/seung/.venv/py369keras/lib/python3.6/site-packages/nbconvert/nbconvertapp.py\", line 481, in convert_single_notebook\n",
      "    output, resources = self.export_single_notebook(notebook_filename, resources, input_buffer=input_buffer)\n",
      "  File \"/home/seung/.venv/py369keras/lib/python3.6/site-packages/nbconvert/nbconvertapp.py\", line 410, in export_single_notebook\n",
      "    output, resources = self.exporter.from_filename(notebook_filename, resources=resources)\n",
      "  File \"/home/seung/.venv/py369keras/lib/python3.6/site-packages/nbconvert/exporters/exporter.py\", line 179, in from_filename\n",
      "    return self.from_file(f, resources=resources, **kw)\n",
      "  File \"/home/seung/.venv/py369keras/lib/python3.6/site-packages/nbconvert/exporters/exporter.py\", line 197, in from_file\n",
      "    return self.from_notebook_node(nbformat.read(file_stream, as_version=4), resources=resources, **kw)\n",
      "  File \"/home/seung/.venv/py369keras/lib/python3.6/site-packages/nbconvert/exporters/pdf.py\", line 185, in from_notebook_node\n",
      "    self.run_latex(tex_file)\n",
      "  File \"/home/seung/.venv/py369keras/lib/python3.6/site-packages/nbconvert/exporters/pdf.py\", line 156, in run_latex\n",
      "    self.latex_count, log_error, raise_on_failure)\n",
      "  File \"/home/seung/.venv/py369keras/lib/python3.6/site-packages/nbconvert/exporters/pdf.py\", line 145, in run_command\n",
      "    command=command, output=out))\n",
      "nbconvert.exporters.pdf.LatexFailed: PDF creating failed, captured latex output:\n",
      "Failed to run \"['xelatex', './notebook.tex', '-quiet']\" command:\n",
      "This is XeTeX, Version 3.14159265-2.6-0.99998 (TeX Live 2017/Debian) (preloaded format=xelatex)\n",
      " restricted \\write18 enabled.\n",
      "entering extended mode\n",
      "(./notebook.tex\n",
      "LaTeX2e <2017-04-15>\n",
      "Babel <3.18> and hyphenation patterns for 84 language(s) loaded.\n",
      "! You can't use `macro parameter character #' in vertical mode.\n",
      "l.1 #\n",
      "     \\documentclass[11pt,language=korean]{article}\n",
      "? \n",
      "! Emergency stop.\n",
      "l.1 #\n",
      "     \\documentclass[11pt,language=korean]{article}\n",
      "No pages of output.\n",
      "Transcript written on notebook.log.\n",
      "\n"
     ]
    }
   ],
   "source": [
    "!~/.venv/py369keras/bin/jupyter nbconvert 01_Python-basic/01-HelloPython.ipynb --to pdf --template=hangul.tplx"
   ]
  },
  {
   "cell_type": "code",
   "execution_count": null,
   "metadata": {},
   "outputs": [],
   "source": []
  }
 ],
 "metadata": {
  "kernelspec": {
   "display_name": "Python 3",
   "language": "python",
   "name": "python3"
  },
  "language_info": {
   "codemirror_mode": {
    "name": "ipython",
    "version": 3
   },
   "file_extension": ".py",
   "mimetype": "text/x-python",
   "name": "python",
   "nbconvert_exporter": "python",
   "pygments_lexer": "ipython3",
   "version": "3.6.9"
  }
 },
 "nbformat": 4,
 "nbformat_minor": 2
}
