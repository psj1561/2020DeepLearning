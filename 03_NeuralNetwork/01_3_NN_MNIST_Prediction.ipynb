{
 "cells": [
  {
   "cell_type": "markdown",
   "metadata": {},
   "source": [
    "<h2> 신경망의 추론 처리"
   ]
  },
  {
   "cell_type": "markdown",
   "metadata": {},
   "source": [
    "MNIST 데이터 셋을 가지고 추론을 수행하는 신경망 구현"
   ]
  },
  {
   "cell_type": "code",
   "execution_count": 1,
   "metadata": {},
   "outputs": [],
   "source": [
    "import sys, os\n",
    "sys.path.append(os.pardir)\n",
    "from dataset.mnist import load_mnist\n",
    "import pickle\n",
    "import numpy as np"
   ]
  },
  {
   "cell_type": "code",
   "execution_count": 2,
   "metadata": {},
   "outputs": [],
   "source": [
    "def sigmoid(x):\n",
    "    return 1 / (1+np.exp(-x))"
   ]
  },
  {
   "cell_type": "code",
   "execution_count": 3,
   "metadata": {},
   "outputs": [],
   "source": [
    "def softmax(a):\n",
    "    exp_a = np.exp(a)\n",
    "    sum_exp_a = np.sum(exp_a)\n",
    "    y = exp_a / sum_exp_a\n",
    "    return y"
   ]
  },
  {
   "cell_type": "code",
   "execution_count": 4,
   "metadata": {},
   "outputs": [],
   "source": [
    "def get_data():\n",
    "    (x_train, t_train), (x_test, t_test) = \\\n",
    "        load_mnist(normalize=True, flatten=True, one_hot_label=False)\n",
    "    return x_test, t_test"
   ]
  },
  {
   "cell_type": "code",
   "execution_count": 5,
   "metadata": {},
   "outputs": [],
   "source": [
    "def init_network():\n",
    "    with open(\"dataset/sample_weight.pkl\", 'rb') as f:\n",
    "        network = pickle.load(f)\n",
    "        \n",
    "    return network"
   ]
  },
  {
   "cell_type": "code",
   "execution_count": 6,
   "metadata": {},
   "outputs": [],
   "source": [
    "def predict(network, x):\n",
    "    W1, W2, W3 = network['W1'], network['W2'], network['W3']\n",
    "    b1, b2, b3 = network['b1'], network['b2'], network['b3']\n",
    "    \n",
    "    a1 = np.dot(x, W1) + b1\n",
    "    z1 = sigmoid(a1)\n",
    "    a2 = np.dot(z1, W2) + b2\n",
    "    z2 = sigmoid(a2)\n",
    "    a3 = np.dot(z2, W3) + b3\n",
    "    y = softmax(a3)\n",
    "    \n",
    "    return y"
   ]
  },
  {
   "cell_type": "code",
   "execution_count": 7,
   "metadata": {},
   "outputs": [],
   "source": [
    "x, t = get_data()"
   ]
  },
  {
   "cell_type": "code",
   "execution_count": 9,
   "metadata": {},
   "outputs": [
    {
     "data": {
      "text/plain": [
       "((10000, 784), (10000,))"
      ]
     },
     "execution_count": 9,
     "metadata": {},
     "output_type": "execute_result"
    }
   ],
   "source": [
    "x.shape, t.shape"
   ]
  },
  {
   "cell_type": "markdown",
   "metadata": {},
   "source": [
    "정확도 평가"
   ]
  },
  {
   "cell_type": "code",
   "execution_count": 29,
   "metadata": {},
   "outputs": [],
   "source": [
    "network = init_network()"
   ]
  },
  {
   "cell_type": "code",
   "execution_count": 30,
   "metadata": {},
   "outputs": [],
   "source": [
    "#network['W1'].shape, network['b1'].shape"
   ]
  },
  {
   "cell_type": "code",
   "execution_count": 31,
   "metadata": {},
   "outputs": [],
   "source": [
    "y = predict(network, x[0])"
   ]
  },
  {
   "cell_type": "code",
   "execution_count": 32,
   "metadata": {},
   "outputs": [
    {
     "data": {
      "text/plain": [
       "(10,)"
      ]
     },
     "execution_count": 32,
     "metadata": {},
     "output_type": "execute_result"
    }
   ],
   "source": [
    "y.shape"
   ]
  },
  {
   "cell_type": "code",
   "execution_count": 33,
   "metadata": {},
   "outputs": [
    {
     "data": {
      "text/plain": [
       "array([8.4412612e-05, 2.6350660e-06, 7.1549485e-04, 1.2586273e-03,\n",
       "       1.1727966e-06, 4.4990858e-05, 1.6269333e-08, 9.9706495e-01,\n",
       "       9.3744839e-06, 8.1831211e-04], dtype=float32)"
      ]
     },
     "execution_count": 33,
     "metadata": {},
     "output_type": "execute_result"
    }
   ],
   "source": [
    "y"
   ]
  },
  {
   "cell_type": "code",
   "execution_count": 34,
   "metadata": {},
   "outputs": [
    {
     "data": {
      "text/plain": [
       "0.99706495"
      ]
     },
     "execution_count": 34,
     "metadata": {},
     "output_type": "execute_result"
    }
   ],
   "source": [
    "np.max(y)"
   ]
  },
  {
   "cell_type": "code",
   "execution_count": 35,
   "metadata": {},
   "outputs": [
    {
     "data": {
      "text/plain": [
       "7"
      ]
     },
     "execution_count": 35,
     "metadata": {},
     "output_type": "execute_result"
    }
   ],
   "source": [
    "np.argmax(y)"
   ]
  },
  {
   "cell_type": "code",
   "execution_count": 38,
   "metadata": {},
   "outputs": [
    {
     "name": "stdout",
     "output_type": "stream",
     "text": [
      "Ans #7, Pred.#7, 0.9971\n"
     ]
    }
   ],
   "source": [
    "title = 'Ans #{}, Pred.#{}, {:.4f}'.format(t[0], np.argmax(y), np.max(y))\n",
    "print(title)"
   ]
  },
  {
   "cell_type": "code",
   "execution_count": null,
   "metadata": {},
   "outputs": [],
   "source": []
  },
  {
   "cell_type": "code",
   "execution_count": 23,
   "metadata": {},
   "outputs": [],
   "source": [
    "accuracy_cnt = 0\n",
    "for i in range(len(x)):\n",
    "    y = predict(network, x[i])\n",
    "    \n",
    "    p = np.argmax(y) # 확률이 가장 높은 원소의 인덱스를 얻는다.\n",
    "    \n",
    "    if p == t[i]:\n",
    "        accuracy_cnt += 1"
   ]
  },
  {
   "cell_type": "code",
   "execution_count": 24,
   "metadata": {},
   "outputs": [
    {
     "name": "stdout",
     "output_type": "stream",
     "text": [
      "Accuracy:0.9352\n"
     ]
    }
   ],
   "source": [
    "print(\"Accuracy:\" + str(float(accuracy_cnt) / len(x)))"
   ]
  },
  {
   "cell_type": "code",
   "execution_count": 39,
   "metadata": {},
   "outputs": [
    {
     "data": {
      "text/plain": [
       "10000"
      ]
     },
     "execution_count": 39,
     "metadata": {},
     "output_type": "execute_result"
    }
   ],
   "source": [
    "len(x)"
   ]
  },
  {
   "cell_type": "markdown",
   "metadata": {},
   "source": [
    "### 랜덤으로 몇개만 뽑아서 테스트 해보기"
   ]
  },
  {
   "cell_type": "code",
   "execution_count": 62,
   "metadata": {},
   "outputs": [],
   "source": [
    "idx_test = np.random.choice(len(x), 1000)"
   ]
  },
  {
   "cell_type": "code",
   "execution_count": 63,
   "metadata": {},
   "outputs": [
    {
     "data": {
      "text/plain": [
       "array([5755, 2614, 6762, 8977, 7855, 8132, 9709, 9098, 6638, 4332, 7540,\n",
       "       9487, 4703, 1174, 6980,  116, 8220, 7969,  180, 3782, 2320, 6626,\n",
       "       4693, 4806, 3676, 4418, 1723,  539, 2175, 8703, 8118, 1558, 2191,\n",
       "       1542, 6071, 6228, 7857, 7168, 7233, 7837, 3426, 6996, 2855, 1997,\n",
       "       8206, 4565, 1176, 7706, 7305, 7379, 1689, 4985, 7817, 1547, 3646,\n",
       "       5359, 7517,   62,  818, 2642, 1423, 4159, 6976,  929, 1498, 5822,\n",
       "       6791, 9002, 3929, 3187, 4024,   80,  559, 6376, 7818,  441, 6647,\n",
       "       4159, 9810, 5555, 6058, 8218, 2796, 9605, 6052, 3534, 9255, 9457,\n",
       "          7, 1315, 4944, 5460, 7743, 8503, 8897, 6846, 1360, 1039, 5462,\n",
       "       8427,  518, 5285, 5408, 9463, 5362, 7264, 6571, 2380, 2181, 3861,\n",
       "       6628, 4638, 2936, 7689, 7160, 7215, 3004, 8088, 4518, 9293, 9440,\n",
       "       3790, 6139, 7449, 1206,   20, 4785, 8845,  222, 3871, 9219, 5047,\n",
       "       7968,  359, 9735, 4001, 8540, 6310, 1083, 8627, 9951, 9699, 5134,\n",
       "       8130, 7960, 6267, 5253, 1545, 9536, 2421, 1234, 7819, 8468,  799,\n",
       "       7881, 6476, 6840, 1111, 2902, 8045, 5971, 3891, 1683, 8684,  128,\n",
       "       1199, 2808,  921, 3128, 6785,  994,  784, 4706, 2736, 7382, 1484,\n",
       "       3806, 9454, 6310, 6539, 2670, 7891, 8503, 8443, 3157, 1657, 3578,\n",
       "        172, 2952, 1658,  253, 7589, 4739, 2883, 1671, 8867, 2006, 2490,\n",
       "        584,  703, 6723, 6738, 8172, 2937, 4617,  618, 3907, 9223, 4779,\n",
       "        354, 5168, 9499, 1037, 9733, 6832, 7140, 3852, 8924, 4267, 7432,\n",
       "       4780, 1341, 6061, 8737, 8777, 6079, 3006, 6264,  889, 9370, 3313,\n",
       "       1807, 2692, 1997, 5286, 5004, 5295, 5691, 2156, 9298, 5501, 5417,\n",
       "         16, 3221, 2659, 1867, 8228, 4519, 8022, 4456, 9683, 1417, 5500,\n",
       "       2970, 2682, 3221, 2242, 4177, 5746, 3585, 9535, 7474, 9991, 7127,\n",
       "       3574, 6184, 3498,  262, 8844, 9053, 6411, 8775, 5890, 9655,   66,\n",
       "       9690, 1278, 9754, 8030, 5942, 1591, 7556, 8656,  906, 3622, 3422,\n",
       "       1789, 4199, 9135, 2050, 7069, 9940, 4118, 5991, 5711, 6248, 9281,\n",
       "       9019, 2749, 2187,  427, 4080, 4563, 7636, 5288, 2963, 2616, 2190,\n",
       "       2271, 6653, 1239, 1194, 5832, 1911, 8322, 5418, 1732, 8429, 8337,\n",
       "       6742, 2236, 8445,  868, 9401, 8748, 5429,  271, 2495, 5455, 7117,\n",
       "       2972, 8267, 6567, 8015, 2525, 2839, 9860, 5656, 6216, 6876, 9391,\n",
       "       2209, 4071, 3554, 8326, 6149, 9222, 4956, 1505, 1191, 5448, 7762,\n",
       "       9113, 1998, 5668,  671, 1968, 6881, 9577, 1079,  648, 7861, 4091,\n",
       "       2602,  890, 3184, 6489, 7898, 9551, 1475, 1838, 3703, 7703, 3132,\n",
       "       6307, 6310, 3379, 5453, 5505, 8029, 8743, 7846, 1160, 2517, 4518,\n",
       "       8788,  503, 4913, 1187, 7433, 1154, 1188, 2799, 6730, 1506, 2929,\n",
       "        566, 2258, 9463, 2703, 2449, 9516, 6474, 3533, 3836, 9591, 5779,\n",
       "       6837, 4481, 2458, 5553, 6454, 5835,  285, 2540, 7046, 7974, 6806,\n",
       "       6563, 9566, 6702, 5020, 4297, 9678, 4998, 3645, 6251, 8276,   55,\n",
       "       5222, 6684, 9349, 4947, 8755, 1288, 3120,  986,  620, 2014, 4849,\n",
       "       5208, 8761, 5790, 8512, 6189, 5932, 4409, 8312, 8600, 8917, 7910,\n",
       "        285, 2123, 7934, 2124, 4894,  751, 3276, 8260, 8080, 2215, 2311,\n",
       "       5332, 3395, 2479, 6039, 8210, 6955, 4588,  412, 2776, 2368,  291,\n",
       "       6532, 8680, 3442,  168, 4805, 4544, 9435, 4262, 5259, 5389, 8685,\n",
       "       6399, 7429,  414, 3410, 8397, 9966, 4058, 9014,  460, 2185, 4516,\n",
       "       1565,   49, 5185, 1548, 7625, 1065, 1563, 7203, 4714, 6553, 4668,\n",
       "       2755, 7074, 4093, 6102, 6213, 8719,  206, 8150, 7775, 1212, 5449,\n",
       "       5455, 1740, 2501,  647,  591,  263, 1898, 5465, 1417, 6660, 2122,\n",
       "       8302, 4756,  465, 6963, 1820, 3271, 6451, 8883, 7054, 9160, 4857,\n",
       "       2670, 7580,  386, 6168, 5537, 5778, 5196, 3296, 6794, 2402, 8948,\n",
       "       8208, 1622, 1471, 3003, 4883, 3237, 3365,   95, 7930, 1755, 5992,\n",
       "       4085, 5266, 6976, 2463, 3463, 5920, 6433, 1151, 2080, 2655, 4425,\n",
       "       8059, 1868,  980, 7189, 9956, 3309, 6319, 9358,  245, 8734, 9209,\n",
       "       6353,  805, 4152, 2914, 7332, 8097, 3997, 1492, 3530, 4340, 3642,\n",
       "       1259, 6491, 9804, 2398, 8687, 6371, 8528, 1021, 9321, 9075, 5402,\n",
       "       9152, 6844, 8935, 1200, 4856, 5417,  524, 8416, 4956, 8614, 5063,\n",
       "       2945, 5842, 7081,  816, 3745, 1374, 8910, 1932, 3845, 4868, 5549,\n",
       "       3026, 3201, 8821, 8470, 6132, 3992, 9984, 8962,  338, 6480, 8395,\n",
       "       2609, 9116,  791, 4583,   56, 8679, 2879, 9649, 7422, 2416, 1636,\n",
       "       6478, 9342, 3660, 7072, 3152, 8991, 5242, 7949, 1733, 8489, 1584,\n",
       "       6211, 8160, 3712, 2929, 8672, 8626, 9841, 1092, 3081,   53, 7883,\n",
       "       9561, 5357, 9885, 5139, 9959, 5019, 7630, 7111, 7768, 9131, 2921,\n",
       "       4415, 6848, 1042, 5711, 3315, 6377, 3848, 4237, 9408, 2235, 9388,\n",
       "       9346, 2892, 9814, 7695,  507, 3974, 3536, 8200, 3418,  588,  893,\n",
       "       2773, 5248, 3713, 8916, 1431, 7233, 4632, 6833, 2694, 2953, 7277,\n",
       "       7139, 2393, 5714, 1475, 5937, 8486, 3170, 9868, 3101, 3170, 3105,\n",
       "       6710, 6533, 8651, 3339, 8070, 4822, 9585, 7485, 5662, 2573, 9133,\n",
       "       4217, 7215, 8505, 5777, 6942, 5114, 3294, 3786,  237, 1892, 5732,\n",
       "       4745, 1200, 4155, 4013, 3998, 3378,  488, 4461, 8267, 6714, 3228,\n",
       "       2167, 5650, 2987, 9523, 1673, 9860, 4192, 3004, 1197, 2381, 1973,\n",
       "       8728, 8620, 2514, 2064, 4179, 9763, 3342, 7501, 8522, 1045, 2425,\n",
       "       9739, 7779, 3700,  511, 8824, 7152, 4660, 3919, 5056, 4537, 3033,\n",
       "       3547, 6872, 8993, 6800, 1921,   40, 3780, 8050, 3427, 3922,  938,\n",
       "       1317, 4230, 3206,  684, 2650, 5895, 8752, 4061, 2235, 3851, 5364,\n",
       "       6749, 7382, 3183,  577, 3616, 6907, 8197, 5809, 2906, 1550, 9630,\n",
       "       7186, 5572, 5014, 7105, 4327, 2111, 6859,  495, 9241, 6913, 5383,\n",
       "       7120, 5921, 2346, 4084, 8338, 5661, 5600, 3173, 7460,  756, 2175,\n",
       "        406, 8200, 5110, 4431, 9659, 1324, 5849, 2293, 2028, 4096, 5676,\n",
       "       8552, 5871, 8556, 8328, 8867, 8661,  521, 4987, 5312, 3478, 5578,\n",
       "       6282, 5334, 7891, 4064, 3088, 2881, 8398, 7918,  536, 3073, 3863,\n",
       "       7541, 5267, 2438, 8639, 3376, 3737, 7368, 1209, 7558, 6069, 2593,\n",
       "       3927, 2881, 4252, 1837, 1077, 4091, 2522,  898, 2414, 1915, 9659,\n",
       "       3403, 4019, 7902, 1808, 6368, 3577, 9299, 4527, 9736, 7739,  978,\n",
       "       7304, 9600, 3520,  675, 2902, 6323, 5233, 6780, 8012, 9477, 7138,\n",
       "       7423, 9899,  110, 1824, 6519, 1090, 6801, 1368, 9705, 4046,  803,\n",
       "       2531, 6962, 9519, 5993,  847, 8043, 2401,  286, 2662, 9508, 4840,\n",
       "       1646, 1073,  405, 7405, 6316, 4445, 9083,  656,  599, 5814, 8994,\n",
       "       5227, 2264, 8062, 9185,  441, 3554, 8148, 4626, 2906, 7551, 3679,\n",
       "       6941, 5640, 6118, 6883, 9584, 1029, 1909, 1532, 3328, 3272, 7387,\n",
       "       5147, 6961,   26,  970, 4169,  305, 8499, 9043, 3417,  161, 5574,\n",
       "       8090, 7536, 6547,  177, 4989, 9874, 9946,  984, 6142,   32])"
      ]
     },
     "execution_count": 63,
     "metadata": {},
     "output_type": "execute_result"
    }
   ],
   "source": [
    "idx_test"
   ]
  },
  {
   "cell_type": "code",
   "execution_count": 64,
   "metadata": {},
   "outputs": [],
   "source": [
    "x_select = x[idx_test]\n",
    "y_select = t[idx_test]"
   ]
  },
  {
   "cell_type": "code",
   "execution_count": 65,
   "metadata": {},
   "outputs": [
    {
     "data": {
      "text/plain": [
       "(1000, 784)"
      ]
     },
     "execution_count": 65,
     "metadata": {},
     "output_type": "execute_result"
    }
   ],
   "source": [
    "x_select.shape"
   ]
  },
  {
   "cell_type": "code",
   "execution_count": 66,
   "metadata": {},
   "outputs": [],
   "source": [
    "accuracy_cnt = 0\n",
    "for i in range(len(x_select)):\n",
    "    y = predict(network, x_select[i])\n",
    "    \n",
    "    p = np.argmax(y) # 확률이 가장 높은 원소의 인덱스를 얻는다.\n",
    "    \n",
    "    if p == y_select[i]:\n",
    "        accuracy_cnt += 1"
   ]
  },
  {
   "cell_type": "code",
   "execution_count": 67,
   "metadata": {},
   "outputs": [
    {
     "data": {
      "text/plain": [
       "0.933"
      ]
     },
     "execution_count": 67,
     "metadata": {},
     "output_type": "execute_result"
    }
   ],
   "source": [
    "accuracy_cnt / len(x_select)"
   ]
  },
  {
   "cell_type": "code",
   "execution_count": null,
   "metadata": {},
   "outputs": [],
   "source": []
  }
 ],
 "metadata": {
  "kernelspec": {
   "display_name": "Python 3",
   "language": "python",
   "name": "python3"
  },
  "language_info": {
   "codemirror_mode": {
    "name": "ipython",
    "version": 3
   },
   "file_extension": ".py",
   "mimetype": "text/x-python",
   "name": "python",
   "nbconvert_exporter": "python",
   "pygments_lexer": "ipython3",
   "version": "3.6.9"
  }
 },
 "nbformat": 4,
 "nbformat_minor": 4
}
