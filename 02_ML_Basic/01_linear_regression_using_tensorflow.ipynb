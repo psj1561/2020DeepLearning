{
 "cells": [
  {
   "cell_type": "markdown",
   "metadata": {
    "colab_type": "text",
    "id": "dOUtDCQgDJQy"
   },
   "source": [
    "Linear regression 을 학습하며, 기계학습의 원리 및 TensorFlow 를 익히는 notebook 입니다."
   ]
  },
  {
   "cell_type": "markdown",
   "metadata": {
    "colab_type": "text",
    "id": "7v0LW9vmDJQz"
   },
   "source": [
    "**라이브러리 Import 하기**"
   ]
  },
  {
   "cell_type": "code",
   "execution_count": 1,
   "metadata": {
    "colab": {
     "base_uri": "https://localhost:8080/",
     "height": 91
    },
    "colab_type": "code",
    "executionInfo": {
     "elapsed": 928,
     "status": "ok",
     "timestamp": 1600144662088,
     "user": {
      "displayName": "Seung-Chan Kim",
      "photoUrl": "https://lh3.googleusercontent.com/a-/AOh14GjjUCpGdfqBzlivlOvEe4i1Dj062MbvwEmvnGyn=s64",
      "userId": "16393552909587516870"
     },
     "user_tz": -540
    },
    "id": "ObrlFsLKTkVJ",
    "outputId": "0bd5cf8a-3cf8-47a8-a295-dc592d4bbfec"
   },
   "outputs": [
    {
     "name": "stdout",
     "output_type": "stream",
     "text": [
      "WARNING:tensorflow:From /home/seung/.venv/py369keras/lib/python3.6/site-packages/tensorflow_core/python/compat/v2_compat.py:68: disable_resource_variables (from tensorflow.python.ops.variable_scope) is deprecated and will be removed in a future version.\n",
      "Instructions for updating:\n",
      "non-resource variables are not supported in the long term\n"
     ]
    }
   ],
   "source": [
    "#import tensorflow as tf\n",
    "import tensorflow.compat.v1 as tf\n",
    "tf.disable_v2_behavior()\n",
    "\n",
    "import numpy as np\n",
    "import matplotlib.pyplot as plt"
   ]
  },
  {
   "cell_type": "markdown",
   "metadata": {
    "colab_type": "text",
    "id": "Ff--9qgf5KiX"
   },
   "source": [
    "**X and Y data**"
   ]
  },
  {
   "cell_type": "code",
   "execution_count": 2,
   "metadata": {
    "colab": {},
    "colab_type": "code",
    "executionInfo": {
     "elapsed": 925,
     "status": "ok",
     "timestamp": 1600144662088,
     "user": {
      "displayName": "Seung-Chan Kim",
      "photoUrl": "https://lh3.googleusercontent.com/a-/AOh14GjjUCpGdfqBzlivlOvEe4i1Dj062MbvwEmvnGyn=s64",
      "userId": "16393552909587516870"
     },
     "user_tz": -540
    },
    "id": "m8a3CxTPTmGW"
   },
   "outputs": [],
   "source": [
    "x_train = [1, 2, 3]\n",
    "\n",
    "y_train = [2+0.1, 4-0.3, 6+0.15] # 약간의 noise 추가\n",
    "\n",
    "# 다음의 것들도 해보시오\n",
    "#y_train = [2, 4, 6] # 그냥 x_train 에 2배 곱해서 생성\n",
    "#y_train = [3, 5, 7]"
   ]
  },
  {
   "cell_type": "markdown",
   "metadata": {
    "colab_type": "text",
    "id": "SkmD0jC-5O4h"
   },
   "source": [
    "**Initialization**"
   ]
  },
  {
   "cell_type": "code",
   "execution_count": 3,
   "metadata": {
    "colab": {},
    "colab_type": "code",
    "executionInfo": {
     "elapsed": 923,
     "status": "ok",
     "timestamp": 1600144662089,
     "user": {
      "displayName": "Seung-Chan Kim",
      "photoUrl": "https://lh3.googleusercontent.com/a-/AOh14GjjUCpGdfqBzlivlOvEe4i1Dj062MbvwEmvnGyn=s64",
      "userId": "16393552909587516870"
     },
     "user_tz": -540
    },
    "id": "s2teBTHMTpvu"
   },
   "outputs": [],
   "source": [
    "#W = tf.Variable(tf.random_normal([1]), name='weight')\n",
    "#b = tf.Variable(tf.random_normal([1]), name='bias')\n",
    "w0 = 7.0;\n",
    "b0 = 5.0;\n",
    "\n",
    "W = tf.Variable(w0*tf.ones([1]), name='weight')\n",
    "b = tf.Variable(b0*tf.ones([1]), name='bias')"
   ]
  },
  {
   "cell_type": "markdown",
   "metadata": {
    "colab_type": "text",
    "id": "bKecubeL5Rk1"
   },
   "source": [
    "**Our hypothesis XW+b**"
   ]
  },
  {
   "cell_type": "code",
   "execution_count": 4,
   "metadata": {
    "colab": {},
    "colab_type": "code",
    "executionInfo": {
     "elapsed": 920,
     "status": "ok",
     "timestamp": 1600144662089,
     "user": {
      "displayName": "Seung-Chan Kim",
      "photoUrl": "https://lh3.googleusercontent.com/a-/AOh14GjjUCpGdfqBzlivlOvEe4i1Dj062MbvwEmvnGyn=s64",
      "userId": "16393552909587516870"
     },
     "user_tz": -540
    },
    "id": "qc634hVjTshB"
   },
   "outputs": [],
   "source": [
    "hypothesis = x_train * W + b"
   ]
  },
  {
   "cell_type": "markdown",
   "metadata": {
    "colab_type": "text",
    "id": "hgAMH_UP5Vei"
   },
   "source": [
    "**cost/loss function 정의하기**\n",
    "* loss of one training example : \n",
    "$$loss = \\mathcal{L}(\\hat{y}, y) = (\\hat y^{(i)} - y^{(i)})^2 \\tag{1}$$"
   ]
  },
  {
   "cell_type": "code",
   "execution_count": 5,
   "metadata": {
    "colab": {},
    "colab_type": "code",
    "executionInfo": {
     "elapsed": 918,
     "status": "ok",
     "timestamp": 1600144662090,
     "user": {
      "displayName": "Seung-Chan Kim",
      "photoUrl": "https://lh3.googleusercontent.com/a-/AOh14GjjUCpGdfqBzlivlOvEe4i1Dj062MbvwEmvnGyn=s64",
      "userId": "16393552909587516870"
     },
     "user_tz": -540
    },
    "id": "5RPz8FVqTvaD"
   },
   "outputs": [],
   "source": [
    "loss = tf.reduce_mean(tf.square(hypothesis - y_train))"
   ]
  },
  {
   "cell_type": "markdown",
   "metadata": {
    "colab_type": "text",
    "id": "jfkFeTNj5bd0"
   },
   "source": [
    "**Optimizer**"
   ]
  },
  {
   "cell_type": "code",
   "execution_count": 6,
   "metadata": {
    "colab": {},
    "colab_type": "code",
    "executionInfo": {
     "elapsed": 914,
     "status": "ok",
     "timestamp": 1600144662090,
     "user": {
      "displayName": "Seung-Chan Kim",
      "photoUrl": "https://lh3.googleusercontent.com/a-/AOh14GjjUCpGdfqBzlivlOvEe4i1Dj062MbvwEmvnGyn=s64",
      "userId": "16393552909587516870"
     },
     "user_tz": -540
    },
    "id": "_hpMR9RZTwjC"
   },
   "outputs": [],
   "source": [
    "optimizer = tf.train.GradientDescentOptimizer(learning_rate=0.01)\n",
    "train = optimizer.minimize(loss)\n"
   ]
  },
  {
   "cell_type": "markdown",
   "metadata": {
    "colab_type": "text",
    "id": "Yv_IR1Wx44M6"
   },
   "source": [
    "**Launch the graph in a session**"
   ]
  },
  {
   "cell_type": "code",
   "execution_count": 7,
   "metadata": {
    "colab": {},
    "colab_type": "code",
    "executionInfo": {
     "elapsed": 1391,
     "status": "ok",
     "timestamp": 1600144662571,
     "user": {
      "displayName": "Seung-Chan Kim",
      "photoUrl": "https://lh3.googleusercontent.com/a-/AOh14GjjUCpGdfqBzlivlOvEe4i1Dj062MbvwEmvnGyn=s64",
      "userId": "16393552909587516870"
     },
     "user_tz": -540
    },
    "id": "LN795UxoTxtC"
   },
   "outputs": [],
   "source": [
    "sess = tf.Session()"
   ]
  },
  {
   "cell_type": "markdown",
   "metadata": {
    "colab_type": "text",
    "id": "vQAFU25K5BCw"
   },
   "source": [
    "**Initializes global variables in the graph.** "
   ]
  },
  {
   "cell_type": "code",
   "execution_count": 8,
   "metadata": {
    "colab": {},
    "colab_type": "code",
    "executionInfo": {
     "elapsed": 1387,
     "status": "ok",
     "timestamp": 1600144662571,
     "user": {
      "displayName": "Seung-Chan Kim",
      "photoUrl": "https://lh3.googleusercontent.com/a-/AOh14GjjUCpGdfqBzlivlOvEe4i1Dj062MbvwEmvnGyn=s64",
      "userId": "16393552909587516870"
     },
     "user_tz": -540
    },
    "id": "oA5AMENsTzDW"
   },
   "outputs": [],
   "source": [
    "sess.run(tf.global_variables_initializer())"
   ]
  },
  {
   "cell_type": "code",
   "execution_count": 9,
   "metadata": {
    "colab": {
     "base_uri": "https://localhost:8080/",
     "height": 398
    },
    "colab_type": "code",
    "executionInfo": {
     "elapsed": 1829,
     "status": "ok",
     "timestamp": 1600144663017,
     "user": {
      "displayName": "Seung-Chan Kim",
      "photoUrl": "https://lh3.googleusercontent.com/a-/AOh14GjjUCpGdfqBzlivlOvEe4i1Dj062MbvwEmvnGyn=s64",
      "userId": "16393552909587516870"
     },
     "user_tz": -540
    },
    "id": "Of8RSfAgT065",
    "outputId": "8c585c0b-39fd-4b7c-a0ba-c28d32af4a43"
   },
   "outputs": [
    {
     "name": "stdout",
     "output_type": "stream",
     "text": [
      "0 191.49957 6.333 4.6996665\n",
      "200 0.3571643 1.3710526 1.4199096\n",
      "400 0.16119453 1.6209003 0.8519471\n",
      "600 0.08636402 1.7752908 0.5009811\n",
      "800 0.05778992 1.870695 0.284105\n",
      "1000 0.046878833 1.9296489 0.15008862\n",
      "1200 0.04271253 1.9660789 0.06727502\n",
      "1400 0.041121576 1.9885905 0.016101124\n",
      "1600 0.040514145 2.002501 -0.015521131\n",
      "1800 0.040282175 2.011097 -0.035061788\n",
      "2000 0.04019362 2.016409 -0.047137044\n"
     ]
    }
   ],
   "source": [
    "nb_epoch = 2001\n",
    "\n",
    "for step in range(nb_epoch):\n",
    "    sess.run(train)\n",
    "    \n",
    "    if step % 200 == 0: # 200번마다\n",
    "        w1 = sess.run(W)[0] # 기울기\n",
    "        b1 = sess.run(b)[0] # bias\n",
    "        print(step, sess.run(loss), w1, b1)"
   ]
  },
  {
   "cell_type": "markdown",
   "metadata": {
    "colab_type": "text",
    "id": "gbt69NzVUGYw"
   },
   "source": [
    "\n",
    "**학습완료**"
   ]
  },
  {
   "cell_type": "code",
   "execution_count": 10,
   "metadata": {
    "colab": {},
    "colab_type": "code",
    "executionInfo": {
     "elapsed": 1827,
     "status": "ok",
     "timestamp": 1600144663018,
     "user": {
      "displayName": "Seung-Chan Kim",
      "photoUrl": "https://lh3.googleusercontent.com/a-/AOh14GjjUCpGdfqBzlivlOvEe4i1Dj062MbvwEmvnGyn=s64",
      "userId": "16393552909587516870"
     },
     "user_tz": -540
    },
    "id": "2aMiqAyJUDbs"
   },
   "outputs": [],
   "source": [
    "w1 = sess.run(W)[0] # 기울기\n",
    "b1 = sess.run(b)[0] # bias"
   ]
  },
  {
   "cell_type": "markdown",
   "metadata": {
    "colab_type": "text",
    "id": "X9slxXBGDJRJ"
   },
   "source": [
    "출력해보기"
   ]
  },
  {
   "cell_type": "code",
   "execution_count": 11,
   "metadata": {
    "colab": {
     "base_uri": "https://localhost:8080/",
     "height": 53
    },
    "colab_type": "code",
    "executionInfo": {
     "elapsed": 1824,
     "status": "ok",
     "timestamp": 1600144663018,
     "user": {
      "displayName": "Seung-Chan Kim",
      "photoUrl": "https://lh3.googleusercontent.com/a-/AOh14GjjUCpGdfqBzlivlOvEe4i1Dj062MbvwEmvnGyn=s64",
      "userId": "16393552909587516870"
     },
     "user_tz": -540
    },
    "id": "DoJgfrumDJRK",
    "outputId": "75529192-a68c-4151-da7e-d4769f39cf3a"
   },
   "outputs": [
    {
     "name": "stdout",
     "output_type": "stream",
     "text": [
      "2.016409 -0.047137044\n",
      "y = 2.016409x + -0.047137044\n"
     ]
    }
   ],
   "source": [
    "print(w1, b1)\n",
    "\n",
    "str1 = 'y = ' + str(w1) +'x + ' + str(b1)\n",
    "print(str1)"
   ]
  },
  {
   "cell_type": "code",
   "execution_count": 12,
   "metadata": {
    "colab": {
     "base_uri": "https://localhost:8080/",
     "height": 299
    },
    "colab_type": "code",
    "executionInfo": {
     "elapsed": 1821,
     "status": "ok",
     "timestamp": 1600144663018,
     "user": {
      "displayName": "Seung-Chan Kim",
      "photoUrl": "https://lh3.googleusercontent.com/a-/AOh14GjjUCpGdfqBzlivlOvEe4i1Dj062MbvwEmvnGyn=s64",
      "userId": "16393552909587516870"
     },
     "user_tz": -540
    },
    "id": "ZFOmY19QUNKh",
    "outputId": "56021197-cb15-40b5-82b7-5073252e0775"
   },
   "outputs": [
    {
     "data": {
      "text/plain": [
       "Text(0.5, 1.0, 'y = 2.016409x + -0.047137044')"
      ]
     },
     "execution_count": 12,
     "metadata": {},
     "output_type": "execute_result"
    },
    {
     "data": {
      "image/png": "[encoded data removed]",
      "text/plain": [
       "<Figure size 432x288 with 1 Axes>"
      ]
     },
     "metadata": {
      "needs_background": "light"
     },
     "output_type": "display_data"
    }
   ],
   "source": [
    "plt.figure(figsize=(6,4)) # figsize를 바꾸어보세요\n",
    "plt.plot(x_train, y_train,'o') #train data 그리기\n",
    "\n",
    "# 직선 그래프를 그리기 위한 코드\n",
    "# 그래프의 x좌표를 일정 간격으로 설정함\n",
    "x1 = np.linspace(np.min(x_train)-1, np.max(x_train)+1)\n",
    "y1 = w1*x1 + b1\n",
    "plt.plot(x1, y1)\n",
    "\n",
    "plt.grid() # 격자\n",
    "#plt.axis((np.min(x_train) - 1, np.max(x_train) + 1, np.min(y_train) - 1, np.max(y_train) + 1))\n",
    "plt.title(str1)"
   ]
  },
  {
   "cell_type": "markdown",
   "metadata": {
    "colab": {
     "base_uri": "https://localhost:8080/",
     "height": 136
    },
    "colab_type": "code",
    "executionInfo": {
     "elapsed": 1819,
     "status": "error",
     "timestamp": 1600144663019,
     "user": {
      "displayName": "Seung-Chan Kim",
      "photoUrl": "https://lh3.googleusercontent.com/a-/AOh14GjjUCpGdfqBzlivlOvEe4i1Dj062MbvwEmvnGyn=s64",
      "userId": "16393552909587516870"
     },
     "user_tz": -540
    },
    "id": "lR0iEg4u6cgE",
    "outputId": "572b580d-9f1b-40fc-9ca6-317c589b1e5d"
   },
   "source": [
    "### 스스로 해보기\n",
    "아래 부분을 수정해서 처음부터 다시 진행해보기 바랍니다. \n",
    "\n",
    "* 예1) 노이즈를 다르게 준다\n",
    "```\n",
    "x_train = [1, 2, 3]\n",
    "y_train = [2+0.1, 4-0.3, 6+0.15] # 약간의 noise 추가\n",
    "```\n",
    "* 예2) 데이터의 갯수를 지금은 네 개의 점으로 했으나 더 늘려서도 해본다.\n",
    "\n",
    "* 예3) 데이터의 모델을 현재는 y=2x+0 으로 해서 만들었으나, 바꾸어본다.\n",
    "```\n",
    "y=3x-5 \n",
    "y=1.2x + 3\n",
    "```\n",
    "\n",
    "* 예4) 초기값인 w0, b0를 다르게 설정해본다.\n",
    "```\n",
    "w0 = 7.0;\n",
    "b0 = 5.0;\n",
    "```"
   ]
  }
 ],
 "metadata": {
  "colab": {
   "collapsed_sections": [],
   "name": "TF01_1_linear_regression.ipynb",
   "provenance": []
  },
  "kernelspec": {
   "display_name": "Python 3",
   "language": "python",
   "name": "python3"
  },
  "language_info": {
   "codemirror_mode": {
    "name": "ipython",
    "version": 3
   },
   "file_extension": ".py",
   "mimetype": "text/x-python",
   "name": "python",
   "nbconvert_exporter": "python",
   "pygments_lexer": "ipython3",
   "version": "3.6.9"
  }
 },
 "nbformat": 4,
 "nbformat_minor": 1
}
