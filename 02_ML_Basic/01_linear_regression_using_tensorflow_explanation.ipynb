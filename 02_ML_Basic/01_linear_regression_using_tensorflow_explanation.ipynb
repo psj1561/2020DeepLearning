{
 "cells": [
  {
   "cell_type": "markdown",
   "metadata": {
    "colab_type": "text",
    "id": "dOUtDCQgDJQy"
   },
   "source": [
    "Linear regression 을 학습하며, 기계학습의 원리 및 TensorFlow 를 익히는 notebook 입니다."
   ]
  },
  {
   "cell_type": "markdown",
   "metadata": {
    "colab_type": "text",
    "id": "7v0LW9vmDJQz"
   },
   "source": [
    "**라이브러리 Import 하기**"
   ]
  },
  {
   "cell_type": "code",
   "execution_count": 1,
   "metadata": {
    "colab": {
     "base_uri": "https://localhost:8080/",
     "height": 91
    },
    "colab_type": "code",
    "executionInfo": {
     "elapsed": 928,
     "status": "ok",
     "timestamp": 1600144662088,
     "user": {
      "displayName": "Seung-Chan Kim",
      "photoUrl": "https://lh3.googleusercontent.com/a-/AOh14GjjUCpGdfqBzlivlOvEe4i1Dj062MbvwEmvnGyn=s64",
      "userId": "16393552909587516870"
     },
     "user_tz": -540
    },
    "id": "ObrlFsLKTkVJ",
    "outputId": "0bd5cf8a-3cf8-47a8-a295-dc592d4bbfec"
   },
   "outputs": [
    {
     "name": "stdout",
     "output_type": "stream",
     "text": [
      "WARNING:tensorflow:From /home/seung/.venv/py369keras/lib/python3.6/site-packages/tensorflow_core/python/compat/v2_compat.py:68: disable_resource_variables (from tensorflow.python.ops.variable_scope) is deprecated and will be removed in a future version.\n",
      "Instructions for updating:\n",
      "non-resource variables are not supported in the long term\n"
     ]
    }
   ],
   "source": [
    "#import tensorflow as tf\n",
    "import tensorflow.compat.v1 as tf\n",
    "tf.disable_v2_behavior()\n",
    "\n",
    "import numpy as np\n",
    "import matplotlib.pyplot as plt"
   ]
  },
  {
   "cell_type": "markdown",
   "metadata": {
    "colab_type": "text",
    "id": "Ff--9qgf5KiX"
   },
   "source": [
    "**X and Y data (given)**"
   ]
  },
  {
   "cell_type": "code",
   "execution_count": 2,
   "metadata": {
    "colab": {},
    "colab_type": "code",
    "executionInfo": {
     "elapsed": 925,
     "status": "ok",
     "timestamp": 1600144662088,
     "user": {
      "displayName": "Seung-Chan Kim",
      "photoUrl": "https://lh3.googleusercontent.com/a-/AOh14GjjUCpGdfqBzlivlOvEe4i1Dj062MbvwEmvnGyn=s64",
      "userId": "16393552909587516870"
     },
     "user_tz": -540
    },
    "id": "m8a3CxTPTmGW"
   },
   "outputs": [],
   "source": [
    "x_train = [1, 2, 3, 4, 5]\n",
    "#y_train = [2, 4, 6, 8, 10]\n",
    "y_train = [3, 5, 7, 9, 11] #y = 2x +1\n",
    "\n",
    "signal_length = len(x_train)\n",
    "y_noise = np.random.normal(0, 1, signal_length)\n",
    "\n",
    "y_train = y_train + y_noise\n",
    "# 다음의 것들도 해보시오\n",
    "#y_train = [2, 4, 6] # 그냥 x_train 에 2배 곱해서 생성\n",
    "#y_train = [3, 5, 7]"
   ]
  },
  {
   "cell_type": "code",
   "execution_count": 3,
   "metadata": {},
   "outputs": [
    {
     "data": {
      "image/png": "[encoded data removed]",
      "text/plain": [
       "<Figure size 432x288 with 1 Axes>"
      ]
     },
     "metadata": {
      "needs_background": "light"
     },
     "output_type": "display_data"
    }
   ],
   "source": [
    "plt.plot(x_train, y_train,'.-')\n",
    "plt.grid()"
   ]
  },
  {
   "cell_type": "markdown",
   "metadata": {
    "colab_type": "text",
    "id": "SkmD0jC-5O4h"
   },
   "source": [
    "**Initialization**"
   ]
  },
  {
   "cell_type": "code",
   "execution_count": 18,
   "metadata": {},
   "outputs": [],
   "source": [
    "useRandom = False"
   ]
  },
  {
   "cell_type": "code",
   "execution_count": 19,
   "metadata": {
    "colab": {},
    "colab_type": "code",
    "executionInfo": {
     "elapsed": 923,
     "status": "ok",
     "timestamp": 1600144662089,
     "user": {
      "displayName": "Seung-Chan Kim",
      "photoUrl": "https://lh3.googleusercontent.com/a-/AOh14GjjUCpGdfqBzlivlOvEe4i1Dj062MbvwEmvnGyn=s64",
      "userId": "16393552909587516870"
     },
     "user_tz": -540
    },
    "id": "s2teBTHMTpvu"
   },
   "outputs": [],
   "source": [
    "if useRandom:\n",
    "    W = tf.Variable(tf.random_normal([1]), name='weight')\n",
    "    b = tf.Variable(tf.random_normal([1]), name='bias')\n",
    "else:\n",
    "    w0 = 7.0;\n",
    "    b0 = 5.0;\n",
    "\n",
    "    W = tf.Variable(w0*tf.ones([1]), name='weight')\n",
    "    b = tf.Variable(b0*tf.ones([1]), name='bias')"
   ]
  },
  {
   "cell_type": "markdown",
   "metadata": {
    "colab_type": "text",
    "id": "bKecubeL5Rk1"
   },
   "source": [
    "**Our hypothesis**\n",
    "$$ H(x)=Wx + b $$"
   ]
  },
  {
   "cell_type": "code",
   "execution_count": 20,
   "metadata": {
    "colab": {},
    "colab_type": "code",
    "executionInfo": {
     "elapsed": 920,
     "status": "ok",
     "timestamp": 1600144662089,
     "user": {
      "displayName": "Seung-Chan Kim",
      "photoUrl": "https://lh3.googleusercontent.com/a-/AOh14GjjUCpGdfqBzlivlOvEe4i1Dj062MbvwEmvnGyn=s64",
      "userId": "16393552909587516870"
     },
     "user_tz": -540
    },
    "id": "qc634hVjTshB"
   },
   "outputs": [],
   "source": [
    "hypothesis = x_train * W + b"
   ]
  },
  {
   "cell_type": "markdown",
   "metadata": {
    "colab_type": "text",
    "id": "hgAMH_UP5Vei"
   },
   "source": [
    "**cost/loss function 정의하기**\n",
    "* loss of one training example : \n",
    "$$loss = \\mathcal{L}(\\hat{y}, y) = (\\hat y^{(i)} - y^{(i)})^2 \\tag{1}$$"
   ]
  },
  {
   "cell_type": "code",
   "execution_count": 21,
   "metadata": {
    "colab": {},
    "colab_type": "code",
    "executionInfo": {
     "elapsed": 918,
     "status": "ok",
     "timestamp": 1600144662090,
     "user": {
      "displayName": "Seung-Chan Kim",
      "photoUrl": "https://lh3.googleusercontent.com/a-/AOh14GjjUCpGdfqBzlivlOvEe4i1Dj062MbvwEmvnGyn=s64",
      "userId": "16393552909587516870"
     },
     "user_tz": -540
    },
    "id": "5RPz8FVqTvaD"
   },
   "outputs": [],
   "source": [
    "loss = tf.reduce_mean(tf.square(hypothesis - y_train))"
   ]
  },
  {
   "cell_type": "markdown",
   "metadata": {
    "colab_type": "text",
    "id": "jfkFeTNj5bd0"
   },
   "source": [
    "**Optimizer**"
   ]
  },
  {
   "cell_type": "code",
   "execution_count": 22,
   "metadata": {
    "colab": {},
    "colab_type": "code",
    "executionInfo": {
     "elapsed": 914,
     "status": "ok",
     "timestamp": 1600144662090,
     "user": {
      "displayName": "Seung-Chan Kim",
      "photoUrl": "https://lh3.googleusercontent.com/a-/AOh14GjjUCpGdfqBzlivlOvEe4i1Dj062MbvwEmvnGyn=s64",
      "userId": "16393552909587516870"
     },
     "user_tz": -540
    },
    "id": "_hpMR9RZTwjC"
   },
   "outputs": [],
   "source": [
    "optimizer = tf.train.GradientDescentOptimizer(learning_rate=0.01)\n",
    "train = optimizer.minimize(loss)\n"
   ]
  },
  {
   "cell_type": "markdown",
   "metadata": {
    "colab_type": "text",
    "id": "Yv_IR1Wx44M6"
   },
   "source": [
    "**Launch the graph in a session**"
   ]
  },
  {
   "cell_type": "code",
   "execution_count": 23,
   "metadata": {
    "colab": {},
    "colab_type": "code",
    "executionInfo": {
     "elapsed": 1391,
     "status": "ok",
     "timestamp": 1600144662571,
     "user": {
      "displayName": "Seung-Chan Kim",
      "photoUrl": "https://lh3.googleusercontent.com/a-/AOh14GjjUCpGdfqBzlivlOvEe4i1Dj062MbvwEmvnGyn=s64",
      "userId": "16393552909587516870"
     },
     "user_tz": -540
    },
    "id": "LN795UxoTxtC"
   },
   "outputs": [],
   "source": [
    "sess = tf.Session()"
   ]
  },
  {
   "cell_type": "markdown",
   "metadata": {
    "colab_type": "text",
    "id": "vQAFU25K5BCw"
   },
   "source": [
    "**Initializes global variables in the graph.** "
   ]
  },
  {
   "cell_type": "code",
   "execution_count": 24,
   "metadata": {
    "colab": {},
    "colab_type": "code",
    "executionInfo": {
     "elapsed": 1387,
     "status": "ok",
     "timestamp": 1600144662571,
     "user": {
      "displayName": "Seung-Chan Kim",
      "photoUrl": "https://lh3.googleusercontent.com/a-/AOh14GjjUCpGdfqBzlivlOvEe4i1Dj062MbvwEmvnGyn=s64",
      "userId": "16393552909587516870"
     },
     "user_tz": -540
    },
    "id": "oA5AMENsTzDW"
   },
   "outputs": [],
   "source": [
    "sess.run(tf.global_variables_initializer())"
   ]
  },
  {
   "cell_type": "code",
   "execution_count": 25,
   "metadata": {
    "colab": {
     "base_uri": "https://localhost:8080/",
     "height": 398
    },
    "colab_type": "code",
    "executionInfo": {
     "elapsed": 1829,
     "status": "ok",
     "timestamp": 1600144663017,
     "user": {
      "displayName": "Seung-Chan Kim",
      "photoUrl": "https://lh3.googleusercontent.com/a-/AOh14GjjUCpGdfqBzlivlOvEe4i1Dj062MbvwEmvnGyn=s64",
      "userId": "16393552909587516870"
     },
     "user_tz": -540
    },
    "id": "Of8RSfAgT065",
    "outputId": "8c585c0b-39fd-4b7c-a0ba-c28d32af4a43"
   },
   "outputs": [
    {
     "name": "stdout",
     "output_type": "stream",
     "text": [
      "0 \t 235.90105 \t 5.667278 \t 4.6285677\n",
      "5 \t 16.034658 \t 2.483802 \t 3.735464\n",
      "10 \t 1.2560021 \t 1.6606196 \t 3.496314\n",
      "15 \t 0.2607053 \t 1.4492905 \t 3.4268248\n",
      "20 \t 0.1918128 \t 1.396545 \t 3.4014444\n",
      "25 \t 0.18524785 \t 1.3848772 \t 3.387623\n",
      "30 \t 0.18293613 \t 1.3838245 \t 3.3769197\n",
      "35 \t 0.1809725 \t 1.3854907 \t 3.3671439\n",
      "40 \t 0.17909238 \t 1.3878292 \t 3.3577266\n",
      "45 \t 0.1772761 \t 1.39031 \t 3.3485174\n",
      "50 \t 0.1755205 \t 1.3927963 \t 3.339476\n",
      "55 \t 0.17382348 \t 1.3952528 \t 3.33059\n",
      "60 \t 0.17218289 \t 1.3976713 \t 3.321854\n",
      "65 \t 0.17059678 \t 1.40005 \t 3.3132648\n",
      "70 \t 0.16906366 \t 1.402389 \t 3.30482\n",
      "75 \t 0.16758151 \t 1.4046888 \t 3.296517\n",
      "80 \t 0.16614877 \t 1.4069501 \t 3.2883532\n",
      "85 \t 0.16476357 \t 1.4091734 \t 3.2803266\n",
      "90 \t 0.16342469 \t 1.4113593 \t 3.2724347\n",
      "95 \t 0.16213033 \t 1.4135084 \t 3.2646754\n",
      "100 \t 0.1608791 \t 1.4156214 \t 3.2570465\n"
     ]
    }
   ],
   "source": [
    "nb_epoch = 1001\n",
    "vloss = [] #empty list\n",
    "vb = [] #empty list\n",
    "vw = [] #empty list\n",
    "for step in range(nb_epoch):\n",
    "    sess.run(train)\n",
    "    loss1 = sess.run(loss)\n",
    "    vloss.append(loss1)\n",
    "    \n",
    "    if step % 50 == 0: # 5번마다\n",
    "        w1 = sess.run(W)[0] # 기울기\n",
    "        b1 = sess.run(b)[0] # bias\n",
    "        \n",
    "        print(step,'\\t', loss1, '\\t', w1, '\\t',b1)"
   ]
  },
  {
   "cell_type": "code",
   "execution_count": 26,
   "metadata": {},
   "outputs": [
    {
     "data": {
      "text/plain": [
       "Text(0, 0.5, 'loss')"
      ]
     },
     "execution_count": 26,
     "metadata": {},
     "output_type": "execute_result"
    },
    {
     "data": {
      "image/png": "[encoded data removed]",
      "text/plain": [
       "<Figure size 432x288 with 1 Axes>"
      ]
     },
     "metadata": {
      "needs_background": "light"
     },
     "output_type": "display_data"
    }
   ],
   "source": [
    "plt.plot(vloss[:20],'.-')\n",
    "plt.xlabel('epoch')\n",
    "plt.ylabel('loss')"
   ]
  },
  {
   "cell_type": "markdown",
   "metadata": {},
   "source": [
    "TODO: w, b의 epoch 에 따른 변화 그래프 넣기 !"
   ]
  },
  {
   "cell_type": "markdown",
   "metadata": {
    "colab_type": "text",
    "id": "gbt69NzVUGYw"
   },
   "source": [
    "\n",
    "**학습완료**"
   ]
  },
  {
   "cell_type": "code",
   "execution_count": 27,
   "metadata": {
    "colab": {},
    "colab_type": "code",
    "executionInfo": {
     "elapsed": 1827,
     "status": "ok",
     "timestamp": 1600144663018,
     "user": {
      "displayName": "Seung-Chan Kim",
      "photoUrl": "https://lh3.googleusercontent.com/a-/AOh14GjjUCpGdfqBzlivlOvEe4i1Dj062MbvwEmvnGyn=s64",
      "userId": "16393552909587516870"
     },
     "user_tz": -540
    },
    "id": "2aMiqAyJUDbs"
   },
   "outputs": [],
   "source": [
    "w1 = sess.run(W)[0] # 기울기\n",
    "b1 = sess.run(b)[0] # bias"
   ]
  },
  {
   "cell_type": "markdown",
   "metadata": {
    "colab_type": "text",
    "id": "X9slxXBGDJRJ"
   },
   "source": [
    "출력해보기"
   ]
  },
  {
   "cell_type": "code",
   "execution_count": 28,
   "metadata": {
    "colab": {
     "base_uri": "https://localhost:8080/",
     "height": 53
    },
    "colab_type": "code",
    "executionInfo": {
     "elapsed": 1824,
     "status": "ok",
     "timestamp": 1600144663018,
     "user": {
      "displayName": "Seung-Chan Kim",
      "photoUrl": "https://lh3.googleusercontent.com/a-/AOh14GjjUCpGdfqBzlivlOvEe4i1Dj062MbvwEmvnGyn=s64",
      "userId": "16393552909587516870"
     },
     "user_tz": -540
    },
    "id": "DoJgfrumDJRK",
    "outputId": "75529192-a68c-4151-da7e-d4769f39cf3a"
   },
   "outputs": [
    {
     "name": "stdout",
     "output_type": "stream",
     "text": [
      "1.4156214 3.2570465\n"
     ]
    }
   ],
   "source": [
    "print(w1, b1)"
   ]
  },
  {
   "cell_type": "code",
   "execution_count": 29,
   "metadata": {},
   "outputs": [
    {
     "name": "stdout",
     "output_type": "stream",
     "text": [
      "y = 1.4156214x + 3.2570465\n"
     ]
    }
   ],
   "source": [
    "str1 = 'y = ' + str(w1) +'x + ' + str(b1)\n",
    "print(str1)"
   ]
  },
  {
   "cell_type": "code",
   "execution_count": 30,
   "metadata": {
    "colab": {
     "base_uri": "https://localhost:8080/",
     "height": 299
    },
    "colab_type": "code",
    "executionInfo": {
     "elapsed": 1821,
     "status": "ok",
     "timestamp": 1600144663018,
     "user": {
      "displayName": "Seung-Chan Kim",
      "photoUrl": "https://lh3.googleusercontent.com/a-/AOh14GjjUCpGdfqBzlivlOvEe4i1Dj062MbvwEmvnGyn=s64",
      "userId": "16393552909587516870"
     },
     "user_tz": -540
    },
    "id": "ZFOmY19QUNKh",
    "outputId": "56021197-cb15-40b5-82b7-5073252e0775"
   },
   "outputs": [
    {
     "data": {
      "text/plain": [
       "Text(0.5, 1.0, 'y = 1.4156214x + 3.2570465')"
      ]
     },
     "execution_count": 30,
     "metadata": {},
     "output_type": "execute_result"
    },
    {
     "data": {
      "image/png": "[encoded data removed]",
      "text/plain": [
       "<Figure size 432x288 with 1 Axes>"
      ]
     },
     "metadata": {
      "needs_background": "light"
     },
     "output_type": "display_data"
    }
   ],
   "source": [
    "plt.figure(figsize=(6,4)) # figsize를 바꾸어보세요\n",
    "plt.plot(x_train, y_train,'o') #train data 그리기\n",
    "\n",
    "# 직선 그래프를 그리기 위한 코드\n",
    "# 그래프의 x좌표를 일정 간격으로 설정함\n",
    "x1 = np.linspace(np.min(x_train)-1, np.max(x_train)+1)\n",
    "y1 = w1*x1 + b1\n",
    "plt.plot(x1, y1)\n",
    "\n",
    "plt.grid() # 격자\n",
    "#plt.axis((np.min(x_train) - 1, np.max(x_train) + 1, np.min(y_train) - 1, np.max(y_train) + 1))\n",
    "plt.title(str1)"
   ]
  },
  {
   "cell_type": "markdown",
   "metadata": {
    "colab": {
     "base_uri": "https://localhost:8080/",
     "height": 136
    },
    "colab_type": "code",
    "executionInfo": {
     "elapsed": 1819,
     "status": "error",
     "timestamp": 1600144663019,
     "user": {
      "displayName": "Seung-Chan Kim",
      "photoUrl": "https://lh3.googleusercontent.com/a-/AOh14GjjUCpGdfqBzlivlOvEe4i1Dj062MbvwEmvnGyn=s64",
      "userId": "16393552909587516870"
     },
     "user_tz": -540
    },
    "id": "lR0iEg4u6cgE",
    "outputId": "572b580d-9f1b-40fc-9ca6-317c589b1e5d"
   },
   "source": [
    "### 스스로 해보기\n",
    "아래 부분을 수정해서 처음부터 다시 진행해보기 바랍니다. \n",
    "\n",
    "* 예1) 노이즈를 다르게 준다\n",
    "```\n",
    "x_train = [1, 2, 3]\n",
    "y_train = [2+0.1, 4-0.3, 6+0.15] # 약간의 noise 추가\n",
    "```\n",
    "* 예2) 데이터의 갯수를 지금은 세 개의 점으로 했으나 더 늘려서도 해본다.\n",
    "\n",
    "* 예3) 데이터의 모델을 현재는 y=2x+0 으로 해서 만들었으나, 바꾸어본다.\n",
    "```\n",
    "y=3x-5 \n",
    "y=1.2x + 3\n",
    "```\n",
    "\n",
    "* 예4) 초기값인 w0, b0를 다르게 설정해본다.\n",
    "```\n",
    "w0 = 7.0;\n",
    "b0 = 5.0;\n",
    "```"
   ]
  }
 ],
 "metadata": {
  "colab": {
   "collapsed_sections": [],
   "name": "TF01_1_linear_regression.ipynb",
   "provenance": []
  },
  "kernelspec": {
   "display_name": "Python 3",
   "language": "python",
   "name": "python3"
  },
  "language_info": {
   "codemirror_mode": {
    "name": "ipython",
    "version": 3
   },
   "file_extension": ".py",
   "mimetype": "text/x-python",
   "name": "python",
   "nbconvert_exporter": "python",
   "pygments_lexer": "ipython3",
   "version": "3.6.9"
  }
 },
 "nbformat": 4,
 "nbformat_minor": 1
}
